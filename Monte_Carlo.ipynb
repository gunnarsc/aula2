{
  "nbformat": 4,
  "nbformat_minor": 0,
  "metadata": {
    "colab": {
      "name": "Monte_Carlo.ipynb",
      "provenance": [],
      "collapsed_sections": [],
      "authorship_tag": "ABX9TyPi8AfSdV3RH4i9k8/wvhAh",
      "include_colab_link": true
    },
    "kernelspec": {
      "name": "python3",
      "display_name": "Python 3"
    },
    "language_info": {
      "name": "python"
    }
  },
  "cells": [
    {
      "cell_type": "markdown",
      "metadata": {
        "id": "view-in-github",
        "colab_type": "text"
      },
      "source": [
        "<a href=\"https://colab.research.google.com/github/gunnarsc/aula2/blob/main/Monte_Carlo.ipynb\" target=\"_parent\"><img src=\"https://colab.research.google.com/assets/colab-badge.svg\" alt=\"Open In Colab\"/></a>"
      ]
    },
    {
      "cell_type": "code",
      "metadata": {
        "colab": {
          "base_uri": "https://localhost:8080/"
        },
        "id": "CfZGlYSgdjuf",
        "outputId": "356209dd-88a3-4ecc-f801-e0a9db1d4d4c"
      },
      "source": [
        "#Experimento de Monte-Carlo para um problema de lógica transistor-transistor (TTL).\n",
        "#Disciplina de Processos Estocásticos\n",
        "#Gunnar Comoreto\n",
        "#UFMS 2021/1\n",
        "\n",
        "import random\n",
        "import numpy as np\n",
        "\n",
        "\n",
        "#entrada dos contadores de bits\n",
        "\n",
        "#bits de ruido\n",
        "bit_zeror = 0\n",
        "bit_oner = 0\n",
        "bit_error = 0\n",
        "#bits de sinal limpo\n",
        "bit_zero = 0\n",
        "bit_one = 0\n",
        "bit_erro = 0\n",
        "#bits de sinal com ruido\n",
        "zeros= 0\n",
        "uns= 0\n",
        "desc= 0\n",
        "\n",
        "entrada = 3 #fonte de sinal de entrada de 3V\n",
        "\n",
        "for i in range (5001):\n",
        "    x= random.random() #gera um valor aleatório entre 0 e 1\n",
        "    r= random.random()*1.2\n",
        "    s= random.random()*-1.2\n",
        "    \n",
        "#sinal resultante sem interferência de ruído\n",
        "    sinal_limpo = x*entrada\n",
        "#sinal de ruído apenas\n",
        "    ruido = random.uniform(s,r)\n",
        "#sinal final com interferência de ruído\n",
        "    sinal_final = sinal_limpo * ruido\n",
        "    \n",
        "    #print (ruido)\n",
        "    \n",
        "    if sinal_limpo <= 0.8:\n",
        "        bit_zero = bit_zero+1\n",
        "    elif sinal_limpo >= 2:\n",
        "        bit_one = bit_one+1\n",
        "    elif 0.8 < sinal_limpo <2:\n",
        "        bit_erro = bit_erro+1\n",
        "        \n",
        "    if ruido <= 0.8:\n",
        "        bit_zeror=bit_zeror +1\n",
        "    elif ruido >=2:\n",
        "        bit_oner = bit_umr +1\n",
        "    elif 0.8 < ruido < 2:\n",
        "        bit_error = bit_error +1\n",
        "        \n",
        "    if sinal_final <= 0.8:\n",
        "        zeros=zeros +1\n",
        "    elif sinal_final >=2:\n",
        "        uns= uns +1\n",
        "    elif 0.8 < sinal_final < 2:\n",
        "        desc = desc +1\n",
        "\n",
        "print ('ITERAÇÕES: ',i)\n",
        "\n",
        "print ('\\nResultado do sinal sem interferência:')\n",
        "print ('bits zero: ',bit_zero)\n",
        "print ('bits um: ',bit_one)\n",
        "print ('sinal desconsiderado: ',bit_erro)\n",
        "\n",
        "print ('\\nResultado do sinal de Ruído:')\n",
        "print ('bits zero: ',bit_zeror)\n",
        "print ('bits um: ',bit_oner)\n",
        "print ('sinal desconsiderado: ',bit_error)\n",
        "\n",
        "print ('\\nResultado final com ruído:')\n",
        "print ('bits zero: ',zeros)\n",
        "print ('bits um: ',uns)\n",
        "print ('sinal desconsiderado: ',desc)\n",
        "\n",
        "print ('\\ntaxa de erro de bit zero: ',(zeros-bit_zero)/bit_zero*100,\"%\")\n",
        "print ('taxa de erro de bit um: ', (bit_one-uns)/bit_one*100,\"%\")\n"
      ],
      "execution_count": 33,
      "outputs": [
        {
          "output_type": "stream",
          "text": [
            "ITERAÇÕES:  5000\n",
            "\n",
            "Resultado do sinal sem interferência:\n",
            "bits zero:  1342\n",
            "bits um:  1678\n",
            "sinal desconsiderado:  1981\n",
            "\n",
            "Resultado do sinal de Ruído:\n",
            "bits zero:  4812\n",
            "bits um:  0\n",
            "sinal desconsiderado:  189\n",
            "\n",
            "Resultado final com ruído:\n",
            "bits zero:  4414\n",
            "bits um:  55\n",
            "sinal desconsiderado:  532\n",
            "\n",
            "taxa de erro de bit zero:  228.91207153502236 %\n",
            "taxa de erro de bit um:  96.7222884386174 %\n"
          ],
          "name": "stdout"
        }
      ]
    }
  ]
}