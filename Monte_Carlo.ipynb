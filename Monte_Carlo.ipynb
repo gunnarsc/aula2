{
  "nbformat": 4,
  "nbformat_minor": 0,
  "metadata": {
    "colab": {
      "name": "Monte_Carlo.ipynb",
      "provenance": [],
      "collapsed_sections": [],
      "authorship_tag": "ABX9TyPF+p7UV75hgGn1zzBnDZS0",
      "include_colab_link": true
    },
    "kernelspec": {
      "name": "python3",
      "display_name": "Python 3"
    },
    "language_info": {
      "name": "python"
    }
  },
  "cells": [
    {
      "cell_type": "markdown",
      "metadata": {
        "id": "view-in-github",
        "colab_type": "text"
      },
      "source": [
        "<a href=\"https://colab.research.google.com/github/gunnarsc/aula2/blob/main/Monte_Carlo.ipynb\" target=\"_parent\"><img src=\"https://colab.research.google.com/assets/colab-badge.svg\" alt=\"Open In Colab\"/></a>"
      ]
    },
    {
      "cell_type": "code",
      "metadata": {
        "colab": {
          "base_uri": "https://localhost:8080/"
        },
        "id": "CfZGlYSgdjuf",
        "outputId": "0a03bf50-502f-4cd6-f4a0-0a85642f3d9d"
      },
      "source": [
        "#Experimento de Monte-Carlo para um problema de lógica transistor-transistor (TTL).\n",
        "#Disciplina de Processos Estocásticos\n",
        "#Gunnar Comoreto\n",
        "#UFSM 2021/1\n",
        "\n",
        "import random\n",
        "import numpy as np\n",
        "\n",
        "#entrada dos contadores de bits\n",
        "#bits de ruido\n",
        "bit_zeror = 0\n",
        "bit_oner = 0\n",
        "bit_error = 0\n",
        "#bits de sinal limpo\n",
        "bit_zero = 0\n",
        "bit_one = 0\n",
        "bit_erro = 0\n",
        "#bits de sinal com ruido\n",
        "zeros= 0\n",
        "uns= 0\n",
        "desc= 0\n",
        "\n",
        "entrada = 3 #fonte de sinal de entrada de 3V\n",
        "\n",
        "for i in range (10000):\n",
        "    x= random.randint(0,1) #aleatório 0 ou 1\n",
        "    r= random.random()*1.2\n",
        "    s= random.random()*-1.2\n",
        "    \n",
        "#sinal resultante sem interferência de ruído\n",
        "    sinal_limpo = x*entrada\n",
        "#sinal de ruído apenas\n",
        "    ruido = random.uniform(s,r)\n",
        "#sinal final com interferência de ruído\n",
        "    sinal_final = sinal_limpo + ruido\n",
        "    \n",
        "    #print (ruido)\n",
        "    \n",
        "    if sinal_limpo <= 0.8:\n",
        "        bit_zero = bit_zero+1\n",
        "    elif sinal_limpo >= 2:\n",
        "        bit_one = bit_one+1\n",
        "    #elif 0.8 < sinal_limpo <2:\n",
        "        #bit_erro = bit_erro+1\n",
        "        \n",
        "    if 0 <= ruido <= 0.8:\n",
        "        bit_zeror=bit_zeror +1\n",
        "    elif ruido >=2:\n",
        "        bit_oner = bit_umr +1\n",
        "    elif (0.8 < ruido < 2) or (ruido < 0):\n",
        "        bit_error = bit_error +1\n",
        "        \n",
        "    if 0 <= sinal_final <= 0.8:\n",
        "        zeros=zeros +1\n",
        "    elif sinal_final >=2:\n",
        "        uns= uns +1\n",
        "    elif (0.8 < sinal_final < 2) or (sinal_final < 0):\n",
        "        desc = desc +1    \n",
        "    \n",
        "print ('ITERAÇÕES: ',i+1)\n",
        "\n",
        "print ('\\nResultado do sinal sem interferência:')\n",
        "print ('Bits zero: ',bit_zero)\n",
        "print ('Bits um: ',bit_one)\n",
        "#print ('Sinal perdido: ',bit_erro)\n",
        "\n",
        "print ('\\nResultado do sinal de Ruído:')\n",
        "print ('Bits zero: ',bit_zeror)\n",
        "print ('Bits um: ',bit_oner)\n",
        "print ('Sinal perdido: ',bit_error)\n",
        "\n",
        "print ('\\nResultado final com ruído:')\n",
        "print ('Bits zero: ',zeros)\n",
        "print ('Bits um: ',uns)\n",
        "print ('Sinal perdido: ',desc)\n",
        "\n",
        "um_sem_ruido= bit_one/(i+1)\n",
        "zero_sem_ruido = bit_zero/(i+1)\n",
        "um_com_ruido= uns/(i+1)\n",
        "zero_com_ruido= zeros/(i+1)\n",
        "\n",
        "print ('\\nTaxa de erro de bit um: ',((um_sem_ruido-um_com_ruido)/um_sem_ruido)*100,\"%\")\n",
        "print ('Taxa de erro de bit zero: ', ((zero_sem_ruido-zero_com_ruido)/zero_sem_ruido)*100,\"%\")\n",
        "\n"
      ],
      "execution_count": 68,
      "outputs": [
        {
          "output_type": "stream",
          "text": [
            "ITERAÇÕES:  10000\n",
            "\n",
            "Resultado do sinal sem interferência:\n",
            "Bits zero:  4907\n",
            "Bits um:  5093\n",
            "\n",
            "Resultado do sinal de Ruído:\n",
            "Bits zero:  4416\n",
            "Bits um:  0\n",
            "Sinal perdido:  5584\n",
            "\n",
            "Resultado final com ruído:\n",
            "Bits zero:  2129\n",
            "Bits um:  5047\n",
            "Sinal perdido:  2824\n",
            "\n",
            "Taxa de erro de bit um:  0.9032004712350163 %\n",
            "Taxa de erro de bit zero:  56.61300183411454 %\n"
          ],
          "name": "stdout"
        }
      ]
    }
  ]
}